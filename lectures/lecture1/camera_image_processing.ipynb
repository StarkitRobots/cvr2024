{
 "cells": [
  {
   "cell_type": "code",
   "execution_count": null,
   "id": "ed393200",
   "metadata": {},
   "outputs": [],
   "source": [
    "!pip install opencv-python"
   ]
  },
  {
   "cell_type": "code",
   "execution_count": 11,
   "id": "c3d327f7",
   "metadata": {},
   "outputs": [
    {
     "data": {
      "text/plain": [
       "-1"
      ]
     },
     "execution_count": 11,
     "metadata": {},
     "output_type": "execute_result"
    }
   ],
   "source": [
    "import cv2\n",
    "\n",
    "cam = cv2.VideoCapture(0)\n",
    "\n",
    "i = 0\n",
    "\n",
    "while(True):\n",
    "    success, frame = cam.read()\n",
    "    \n",
    "    #print(frame.shape, type(frame[100, 300, 2]))\n",
    "    \n",
    "    frame[100:400, 300:500, :] = 30\n",
    "    i += 1\n",
    "    \n",
    "    cv2.imshow(\"frame_lalalalala\", frame)\n",
    "    \n",
    "    key = cv2.waitKey(30) & 0xFF\n",
    "    \n",
    "    if (key == ord('q')):\n",
    "        break\n",
    "\n",
    "cam.release()\n",
    "cv2.destroyAllWindows()\n",
    "cv2.waitKey(10)"
   ]
  },
  {
   "cell_type": "code",
   "execution_count": null,
   "id": "0de70231",
   "metadata": {},
   "outputs": [],
   "source": []
  }
 ],
 "metadata": {
  "kernelspec": {
   "display_name": "Python 3",
   "language": "python",
   "name": "python3"
  },
  "language_info": {
   "codemirror_mode": {
    "name": "ipython",
    "version": 3
   },
   "file_extension": ".py",
   "mimetype": "text/x-python",
   "name": "python",
   "nbconvert_exporter": "python",
   "pygments_lexer": "ipython3",
   "version": "3.9.16"
  }
 },
 "nbformat": 4,
 "nbformat_minor": 5
}
