{
 "cells": [
  {
   "cell_type": "code",
   "execution_count": null,
   "metadata": {
    "id": "_ZtCghisdUh7",
    "scrolled": true
   },
   "outputs": [],
   "source": [
    "#!python3 -m pip install torch\n",
    "#!python3 -m pip install matplotlib\n",
    "#!python3 -m pip install numpy"
   ]
  },
  {
   "cell_type": "markdown",
   "metadata": {
    "id": "ZHbKLd1UdUh-"
   },
   "source": [
    "# Neural Network basics"
   ]
  },
  {
   "cell_type": "code",
   "execution_count": null,
   "metadata": {
    "id": "O4MTWnF6dUiB",
    "scrolled": true
   },
   "outputs": [],
   "source": [
    "import torch\n",
    "import numpy as np\n",
    "import matplotlib.pyplot as plt\n",
    "import numpy as np"
   ]
  },
  {
   "cell_type": "markdown",
   "metadata": {
    "id": "6E29QoA6dUiC"
   },
   "source": [
    "# Some work with tensors"
   ]
  },
  {
   "cell_type": "markdown",
   "metadata": {
    "id": "1kmR2a0eec88"
   },
   "source": [
    "All Types of Tensor"
   ]
  },
  {
   "cell_type": "code",
   "execution_count": null,
   "metadata": {
    "id": "_5U_pG8gdYYC"
   },
   "outputs": [],
   "source": [
    "torch.HalfTensor    # 2 byte, floating point\n",
    "torch.FloatTensor   # 4 byte, floating point\n",
    "torch.DoubleTensor  # 8 byte, floating point\n",
    "\n",
    "torch.ShortTensor   # 2 byte, integer, signed\n",
    "torch.IntTensor     # 4 byte, integer, signed\n",
    "torch.LongTensor    # 8 byte, integer, signed\n",
    "\n",
    "torch.CharTensor    # 1 byte, integer, signed\n",
    "torch.ByteTensor    # 1 byte, integer, unsigned"
   ]
  },
  {
   "cell_type": "markdown",
   "metadata": {
    "id": "_cRNAE0YdUiE"
   },
   "source": [
    "## Initialization of Tensor"
   ]
  },
  {
   "cell_type": "markdown",
   "metadata": {
    "id": "eXwxXZUFe3h_"
   },
   "source": [
    "torch.Tensor is an alias for the default tensor type (torch.FloatTensor).\n",
    "\n",
    "A tensor can be constructed from a Python list or sequence using the torch.tensor() constructor:"
   ]
  },
  {
   "cell_type": "code",
   "execution_count": null,
   "metadata": {
    "colab": {
     "base_uri": "https://localhost:8080/"
    },
    "id": "bHKbvhTOdUiF",
    "outputId": "c05b07e2-ca92-4a78-bcae-f2117c6fb997"
   },
   "outputs": [],
   "source": [
    "x1 = torch.tensor([[1., -1.], [1., -1.]])\n",
    "x1"
   ]
  },
  {
   "cell_type": "code",
   "execution_count": null,
   "metadata": {
    "id": "ZpriOUa9inXQ"
   },
   "outputs": [],
   "source": [
    "x1.shape"
   ]
  },
  {
   "cell_type": "code",
   "execution_count": null,
   "metadata": {
    "colab": {
     "base_uri": "https://localhost:8080/"
    },
    "id": "7SRzs6pWdUiH",
    "outputId": "24edc81a-5e54-44e8-f49f-6a8a9accd6a0"
   },
   "outputs": [],
   "source": [
    "torch.zeros([2,4])"
   ]
  },
  {
   "cell_type": "code",
   "execution_count": null,
   "metadata": {
    "colab": {
     "base_uri": "https://localhost:8080/"
    },
    "id": "iKO8b-EFgf8j",
    "outputId": "448a1414-4be1-4e9e-836b-a197a023f152"
   },
   "outputs": [],
   "source": [
    "torch.ones(5,2)"
   ]
  },
  {
   "cell_type": "code",
   "execution_count": null,
   "metadata": {
    "colab": {
     "base_uri": "https://localhost:8080/"
    },
    "id": "ly4EL2_mgwxa",
    "outputId": "92fe66f8-34e3-4b4b-f62e-b24538b36f1e"
   },
   "outputs": [],
   "source": [
    "x2 = torch.IntTensor(x1.shape)\n",
    "x2"
   ]
  },
  {
   "cell_type": "code",
   "execution_count": null,
   "metadata": {
    "colab": {
     "base_uri": "https://localhost:8080/"
    },
    "id": "54U9Rvh7hZEy",
    "outputId": "bf1c8366-32fa-4e5b-a610-c75500d08415"
   },
   "outputs": [],
   "source": [
    "torch.ones_like(x2)"
   ]
  },
  {
   "cell_type": "code",
   "execution_count": null,
   "metadata": {
    "colab": {
     "base_uri": "https://localhost:8080/"
    },
    "id": "ULj-q9pUhqnt",
    "outputId": "79b6f9da-f255-457b-9af9-e9a8f35c9248"
   },
   "outputs": [],
   "source": [
    "x3 = x1.zero_()\n",
    "x3"
   ]
  },
  {
   "cell_type": "code",
   "execution_count": null,
   "metadata": {
    "colab": {
     "base_uri": "https://localhost:8080/"
    },
    "id": "sD_b_ch4h7Tk",
    "outputId": "a4479e05-b7e6-4848-82c3-741c42e5fa27"
   },
   "outputs": [],
   "source": [
    "x1"
   ]
  },
  {
   "cell_type": "code",
   "execution_count": null,
   "metadata": {
    "id": "UrWvHZb6kgYI"
   },
   "outputs": [],
   "source": [
    "x2.zero_()\n",
    "torch.allclose(x1, x2)"
   ]
  },
  {
   "cell_type": "markdown",
   "metadata": {
    "id": "o1w7yry9ly5d"
   },
   "source": [
    "Initialization of distributions"
   ]
  },
  {
   "cell_type": "code",
   "execution_count": null,
   "metadata": {
    "colab": {
     "base_uri": "https://localhost:8080/"
    },
    "id": "gMb1SKfWmBhC",
    "outputId": "69deb77a-6810-4f96-c63c-d082912744d1"
   },
   "outputs": [],
   "source": [
    "x = torch.randn((3, 4))   # normal distribution\n",
    "x"
   ]
  },
  {
   "cell_type": "code",
   "execution_count": null,
   "metadata": {
    "colab": {
     "base_uri": "https://localhost:8080/"
    },
    "id": "8YJmGnFvmOoG",
    "outputId": "3ee2e57a-9d77-4c85-e7e8-70e3502ce97e"
   },
   "outputs": [],
   "source": [
    "x.random_(0, 10)    # discrete (int) uniform distribution at [0, 10]\n",
    "x"
   ]
  },
  {
   "cell_type": "code",
   "execution_count": null,
   "metadata": {
    "id": "V538f97GnMp0"
   },
   "outputs": [],
   "source": [
    "x.uniform_(0, 10)    # uniform distribution at [0, 10]\n",
    "x"
   ]
  },
  {
   "cell_type": "code",
   "execution_count": null,
   "metadata": {
    "colab": {
     "base_uri": "https://localhost:8080/"
    },
    "id": "BSOVHd27nQn2",
    "outputId": "c585cf0c-a07b-421d-ebef-144c10045260"
   },
   "outputs": [],
   "source": [
    "x.normal_(mean=0, std=1)  # normal with mean=0 and variance=1\n",
    "x"
   ]
  },
  {
   "cell_type": "code",
   "execution_count": null,
   "metadata": {
    "colab": {
     "base_uri": "https://localhost:8080/"
    },
    "id": "BzdWTerEnn0i",
    "outputId": "8e32312f-4cde-4d90-b67f-daa48d5e8bb0"
   },
   "outputs": [],
   "source": [
    "y = x.bernoulli(p=0.4)   # bernoulli with param p=0.4\n",
    "y"
   ]
  },
  {
   "cell_type": "markdown",
   "metadata": {
    "id": "nQPUd0kxdUiL"
   },
   "source": [
    "# Operations with tensors"
   ]
  },
  {
   "cell_type": "code",
   "execution_count": null,
   "metadata": {
    "id": "NmzEeq3xdUiL"
   },
   "outputs": [],
   "source": [
    "x = torch.tensor([[1., 2.], [3., 4.]])\n",
    "y = torch.tensor([[1., -1.], [-1., 1.]])"
   ]
  },
  {
   "cell_type": "code",
   "execution_count": null,
   "metadata": {
    "colab": {
     "base_uri": "https://localhost:8080/"
    },
    "id": "XuotX6_ytxBq",
    "outputId": "637bd6ad-7ad6-4f6a-9a0d-85cfacbc6886"
   },
   "outputs": [],
   "source": [
    "x.log()"
   ]
  },
  {
   "cell_type": "code",
   "execution_count": null,
   "metadata": {
    "colab": {
     "base_uri": "https://localhost:8080/"
    },
    "id": "UbmmLOo5t2PH",
    "outputId": "8ec36e89-bf7c-4acf-b884-3b6c77e65013"
   },
   "outputs": [],
   "source": [
    "y.sin()"
   ]
  },
  {
   "cell_type": "code",
   "execution_count": null,
   "metadata": {
    "colab": {
     "base_uri": "https://localhost:8080/"
    },
    "id": "laZ3B5lxt_5-",
    "outputId": "2234b0e6-1462-4e19-ee90-234152a21abb"
   },
   "outputs": [],
   "source": [
    "y[x == y]"
   ]
  },
  {
   "cell_type": "code",
   "execution_count": null,
   "metadata": {
    "colab": {
     "base_uri": "https://localhost:8080/"
    },
    "id": "0jbNGSPiuG2o",
    "outputId": "28a7bd29-726f-4d74-e6b9-ac50d789ba9c"
   },
   "outputs": [],
   "source": [
    "y[y < x]"
   ]
  },
  {
   "cell_type": "markdown",
   "metadata": {
    "id": "OD2Q2YeKdUiM"
   },
   "source": [
    "## Sum(), Max(), Min(), Mean()"
   ]
  },
  {
   "cell_type": "code",
   "execution_count": null,
   "metadata": {
    "id": "cKoghmamdUiM",
    "outputId": "02e8ccca-3035-4c7b-c59a-cf79732a3832"
   },
   "outputs": [],
   "source": [
    "print('Sum of elements in x:\\n', x.sum())"
   ]
  },
  {
   "cell_type": "markdown",
   "metadata": {
    "id": "FgeH2iX8dUiM"
   },
   "source": [
    "## Item()"
   ]
  },
  {
   "cell_type": "code",
   "execution_count": null,
   "metadata": {
    "id": "9ehjHCzOdUiN",
    "outputId": "5f21c7b1-51a1-44fb-b033-796d65bfab16"
   },
   "outputs": [],
   "source": [
    "print('Sum of elements in y:\\n', y.sum().item())"
   ]
  },
  {
   "cell_type": "markdown",
   "metadata": {
    "id": "F3LqWWYddUiN"
   },
   "source": [
    "## torch.add()"
   ]
  },
  {
   "cell_type": "code",
   "execution_count": null,
   "metadata": {
    "id": "2LHx1PgDdUiN",
    "outputId": "efe51a86-1c3e-446d-eabc-01c25ad176dc"
   },
   "outputs": [],
   "source": [
    "print('Adding one tensor to another:\\n', torch.add(x,y))"
   ]
  },
  {
   "cell_type": "markdown",
   "metadata": {
    "id": "haHcETrDdUiO"
   },
   "source": [
    "## torch.mul()"
   ]
  },
  {
   "cell_type": "code",
   "execution_count": null,
   "metadata": {
    "id": "D62ey5C0dUiO",
    "outputId": "f2a8d0fb-3711-4b59-b5b6-7d91596244dc"
   },
   "outputs": [],
   "source": [
    "print('Multiplying one tensor with the other one:\\n', torch.mul(x,y))"
   ]
  },
  {
   "cell_type": "markdown",
   "metadata": {
    "id": "zJSIAah7dUiP"
   },
   "source": [
    "## t() (transpose) and torch.matmul()"
   ]
  },
  {
   "cell_type": "code",
   "execution_count": null,
   "metadata": {
    "id": "jacYSuE_dUiP",
    "outputId": "4873f37b-8964-4255-ac5a-e21e3997927d",
    "scrolled": true
   },
   "outputs": [],
   "source": [
    "input_shape = 3\n",
    "weights = torch.rand([input_shape])\n",
    "#weights = torch.tensor([1., -1., 1.])\n",
    "print('weights', weights)\n",
    "\n",
    "inp = torch.tensor([1., -1., 1.]).t()\n",
    "print('input', inp)\n",
    "\n",
    "torch.matmul(weights, inp)"
   ]
  },
  {
   "cell_type": "markdown",
   "metadata": {
    "id": "d2ho-VjhdUiP"
   },
   "source": [
    "## torch.cat()"
   ]
  },
  {
   "cell_type": "code",
   "execution_count": null,
   "metadata": {
    "id": "QabozLOQdUiP",
    "outputId": "889a46d5-198e-4f46-a256-a423f35a2560"
   },
   "outputs": [],
   "source": [
    "torch.cat((weights, torch.tensor([0.5])), 0)"
   ]
  },
  {
   "cell_type": "markdown",
   "metadata": {
    "id": "Qnv6cBLPoCUY"
   },
   "source": [
    "\n",
    "## changing shapes"
   ]
  },
  {
   "cell_type": "code",
   "execution_count": null,
   "metadata": {
    "colab": {
     "base_uri": "https://localhost:8080/"
    },
    "id": "VnaDI1K_qkrE",
    "outputId": "a6431475-b441-4230-a9b2-c7ecc6277e0c"
   },
   "outputs": [],
   "source": [
    "b = torch.zeros(3, 2)\n",
    "b"
   ]
  },
  {
   "cell_type": "code",
   "execution_count": null,
   "metadata": {
    "colab": {
     "base_uri": "https://localhost:8080/"
    },
    "id": "_aGKH_VHo1cm",
    "outputId": "ce63a935-194d-488e-e56f-9ab78b86b70c"
   },
   "outputs": [],
   "source": [
    "b.stride()"
   ]
  },
  {
   "cell_type": "code",
   "execution_count": null,
   "metadata": {
    "colab": {
     "base_uri": "https://localhost:8080/"
    },
    "id": "VGRtZxsVr1LG",
    "outputId": "89858c14-d430-4c21-8d63-dca0a90a1e35"
   },
   "outputs": [],
   "source": [
    "b.view(2, 3)"
   ]
  },
  {
   "cell_type": "code",
   "execution_count": null,
   "metadata": {
    "colab": {
     "base_uri": "https://localhost:8080/"
    },
    "id": "KMz21lc6q6lX",
    "outputId": "8ae60a46-65df-4ad1-bb29-1c510f4758d5"
   },
   "outputs": [],
   "source": [
    "b.T"
   ]
  },
  {
   "cell_type": "code",
   "execution_count": null,
   "metadata": {
    "colab": {
     "base_uri": "https://localhost:8080/"
    },
    "id": "mSWpppc_q-20",
    "outputId": "638727e8-68a1-4e34-8ccc-d88648097230"
   },
   "outputs": [],
   "source": [
    "b.T.stride()"
   ]
  },
  {
   "cell_type": "code",
   "execution_count": null,
   "metadata": {
    "colab": {
     "base_uri": "https://localhost:8080/"
    },
    "id": "BPc2C9gWrHxo",
    "outputId": "61c7788e-a81b-43aa-b739-374fbf3e3d89"
   },
   "outputs": [],
   "source": [
    "b.T.is_contiguous()"
   ]
  },
  {
   "cell_type": "code",
   "execution_count": null,
   "metadata": {
    "id": "JLDxXpxyvX-G"
   },
   "outputs": [],
   "source": [
    "a = torch.tensor([[1, 2, 3], [4, 5, 6], [7, 8, 9]])"
   ]
  },
  {
   "cell_type": "code",
   "execution_count": null,
   "metadata": {
    "colab": {
     "base_uri": "https://localhost:8080/"
    },
    "id": "dZp0nPpeviEJ",
    "outputId": "c96405dc-5590-4b32-faef-d7140d59d24d"
   },
   "outputs": [],
   "source": [
    "a.shape"
   ]
  },
  {
   "cell_type": "code",
   "execution_count": null,
   "metadata": {
    "colab": {
     "base_uri": "https://localhost:8080/"
    },
    "id": "2LgAs5VjvmHC",
    "outputId": "e099f2e9-7dd8-4959-f9ee-7bb2d5e88c3d"
   },
   "outputs": [],
   "source": [
    "a[:, :, None].shape"
   ]
  },
  {
   "cell_type": "markdown",
   "metadata": {
    "id": "L2d02YHGsPT4"
   },
   "source": [
    "## type_as, to"
   ]
  },
  {
   "cell_type": "code",
   "execution_count": null,
   "metadata": {
    "colab": {
     "base_uri": "https://localhost:8080/"
    },
    "id": "1gVrXr0gsYS4",
    "outputId": "dc581f83-b7e1-415a-85e6-36cc9a1d396e"
   },
   "outputs": [],
   "source": [
    "b.type_as(torch.IntTensor())\n",
    "b.to(torch.int32)"
   ]
  },
  {
   "cell_type": "markdown",
   "metadata": {
    "id": "GegBezxwP25q"
   },
   "source": [
    "## NumPy"
   ]
  },
  {
   "cell_type": "code",
   "execution_count": null,
   "metadata": {
    "id": "ImDejACbP1HL"
   },
   "outputs": [],
   "source": [
    "a = np.zeros((2,4))\n",
    "t = torch.from_numpy(a)"
   ]
  },
  {
   "cell_type": "code",
   "execution_count": null,
   "metadata": {
    "colab": {
     "base_uri": "https://localhost:8080/"
    },
    "id": "lcVY9U3_QQse",
    "outputId": "e0cdb648-1f7b-4700-8450-121a6aabee7c"
   },
   "outputs": [],
   "source": [
    "t -= torch.tensor([[4., 4., 4., 4.],\n",
    "                   [4., 4., 4., 4.]])\n",
    "print(t, a)"
   ]
  },
  {
   "cell_type": "code",
   "execution_count": null,
   "metadata": {
    "colab": {
     "base_uri": "https://localhost:8080/"
    },
    "id": "8v-bylOFQ9O8",
    "outputId": "2bdb7598-214c-4b2e-8d32-93b71137a8d9"
   },
   "outputs": [],
   "source": [
    "b = t.numpy()\n",
    "b"
   ]
  },
  {
   "cell_type": "markdown",
   "metadata": {
    "id": "n-DwZ9QNdUiH"
   },
   "source": [
    "# Specifying device and type"
   ]
  },
  {
   "cell_type": "code",
   "execution_count": null,
   "metadata": {
    "id": "XyW_gJEkdUiJ"
   },
   "outputs": [],
   "source": [
    "#device = torch.device('cuda:0')\n",
    "\n",
    "device = torch.device('cuda:0' if torch.cuda.is_available() else 'cpu')\n",
    "\n",
    "t = torch.ones([2, 4], dtype=torch.float64, device=device)"
   ]
  },
  {
   "cell_type": "code",
   "execution_count": null,
   "metadata": {
    "colab": {
     "base_uri": "https://localhost:8080/"
    },
    "id": "2Qj10MzzSJYA",
    "outputId": "883d164d-6a4f-4369-aa19-c68db4f0349c"
   },
   "outputs": [],
   "source": [
    "t.is_cuda"
   ]
  },
  {
   "cell_type": "code",
   "execution_count": null,
   "metadata": {
    "colab": {
     "base_uri": "https://localhost:8080/"
    },
    "id": "zJ8P-hl3SLDf",
    "outputId": "b4f05c2e-9366-474e-b17a-bb4044d38cde"
   },
   "outputs": [],
   "source": [
    "!nvidia-smi\n",
    "t"
   ]
  },
  {
   "cell_type": "code",
   "execution_count": null,
   "metadata": {
    "id": "JSWVoolAShCi"
   },
   "outputs": [],
   "source": [
    "t = t.cpu()"
   ]
  },
  {
   "cell_type": "code",
   "execution_count": null,
   "metadata": {
    "colab": {
     "base_uri": "https://localhost:8080/"
    },
    "id": "b6n3tjIXS0kY",
    "outputId": "382cef5e-5233-455b-d4f8-a3e40fda2a11"
   },
   "outputs": [],
   "source": [
    "torch.cuda.empty_cache()\n",
    "!nvidia-smi"
   ]
  },
  {
   "cell_type": "code",
   "execution_count": null,
   "metadata": {
    "colab": {
     "base_uri": "https://localhost:8080/"
    },
    "id": "J6tBOiBKThl2",
    "outputId": "2d49d120-eb67-4dd6-f6ae-c8b1911da37a"
   },
   "outputs": [],
   "source": [
    "t = t.to(device)\n",
    "t"
   ]
  },
  {
   "cell_type": "code",
   "execution_count": null,
   "metadata": {
    "colab": {
     "base_uri": "https://localhost:8080/",
     "height": 176
    },
    "id": "5cQMC5DmT_yH",
    "outputId": "55f0dfcf-0dfc-4041-b1c7-5f1bf4266124"
   },
   "outputs": [],
   "source": [
    "t1 = torch.tensor([[1., 2.], [3., 4.]]).cpu()\n",
    "t2 = torch.tensor([[1., 2.], [3., 4.]]).cuda()\n",
    "\n",
    "t1 + t2"
   ]
  },
  {
   "cell_type": "code",
   "execution_count": null,
   "metadata": {
    "colab": {
     "base_uri": "https://localhost:8080/"
    },
    "id": "J5F1Kp1SUWDg",
    "outputId": "2f4eaa5b-a51b-4bee-e037-026bf39c3454"
   },
   "outputs": [],
   "source": [
    "t1 = t1.cuda()\n",
    "\n",
    "t1 + t2"
   ]
  },
  {
   "cell_type": "markdown",
   "metadata": {
    "id": "b662ZCAV6ZCu"
   },
   "source": [
    "# Max Pooling"
   ]
  },
  {
   "cell_type": "code",
   "execution_count": null,
   "metadata": {
    "colab": {
     "base_uri": "https://localhost:8080/"
    },
    "id": "JOz0YJ_C6dnS",
    "outputId": "63cb2b85-a645-4e89-b290-a6f866759a29"
   },
   "outputs": [],
   "source": [
    "def max_pooling(image, kernel_size):\n",
    "    '''\n",
    "    Your code HERE\n",
    "    '''\n",
    "    return feature_map\n",
    "\n",
    "image = torch.ByteTensor(3, 4, 4)\n",
    "print(image)\n",
    "feature_map = max_pooling(image, 2)\n",
    "feature_map"
   ]
  },
  {
   "cell_type": "markdown",
   "metadata": {
    "id": "2wHa3tmAMJl_"
   },
   "source": [
    "# Vertical and Horisontal mean"
   ]
  },
  {
   "cell_type": "code",
   "execution_count": null,
   "metadata": {
    "id": "WaPE7qr-Pa64"
   },
   "outputs": [],
   "source": [
    "def horizontal_mean(t):\n",
    "  return t.mean(dim=1)"
   ]
  },
  {
   "cell_type": "code",
   "execution_count": null,
   "metadata": {
    "id": "3f9cLxdPPhkt"
   },
   "outputs": [],
   "source": [
    "def vertical_mean(t):\n",
    "  return t.mean(dim=0)"
   ]
  },
  {
   "cell_type": "code",
   "execution_count": null,
   "metadata": {
    "id": "XGN_SCXBPpth"
   },
   "outputs": [],
   "source": [
    "def mean(t):\n",
    "  return t.mean(dim=(0, 1))"
   ]
  },
  {
   "cell_type": "code",
   "execution_count": null,
   "metadata": {
    "colab": {
     "base_uri": "https://localhost:8080/"
    },
    "id": "pfehGwZ7MI_b",
    "outputId": "ff2e7c89-1a8d-4a8a-f164-e2a2035ecd30"
   },
   "outputs": [],
   "source": [
    "t = torch.zeros(3, 5)\n",
    "t.uniform_(0, 10)\n",
    "print(t)\n",
    "horizontal_mean(t)\n",
    "vertical_mean(t)\n",
    "mean(t)"
   ]
  },
  {
   "cell_type": "markdown",
   "metadata": {
    "id": "DHsJbbTKdUiQ"
   },
   "source": [
    "# Neuron model"
   ]
  },
  {
   "cell_type": "markdown",
   "metadata": {
    "id": "xB_r3z3MdUiQ"
   },
   "source": [
    "## Threshold_function\n"
   ]
  },
  {
   "cell_type": "markdown",
   "metadata": {
    "id": "B2WIgooPdUiQ"
   },
   "source": [
    "$$\\begin{equation}\n",
    "        \\begin{matrix}\n",
    "        f(x) & =\n",
    "        & \\left\\{\n",
    "        \\begin{matrix}\n",
    "        1 & \\mbox{if } x \\geq threshold \\\\\n",
    "        0 & \\mbox{if } x \\lt threshold\n",
    "        \\end{matrix} \\right.\n",
    "        \\end{matrix}\n",
    "    \\end{equation}$$"
   ]
  },
  {
   "cell_type": "code",
   "execution_count": null,
   "metadata": {
    "id": "bDlLeBUmdUiR"
   },
   "outputs": [],
   "source": [
    "def threshold_function(x, threshold=0):\n",
    "    return 0 if x < threshold else 1"
   ]
  },
  {
   "cell_type": "code",
   "execution_count": null,
   "metadata": {
    "id": "LHImuXVedUiR",
    "outputId": "6d53892c-c327-47c6-9f33-a6f794613e10",
    "scrolled": true
   },
   "outputs": [],
   "source": [
    "inp = [x*0.01 - 0.5 for x in range(100)]\n",
    "plt.plot(inp, [threshold_function(x, threshold=0) for x in inp])"
   ]
  },
  {
   "cell_type": "markdown",
   "metadata": {
    "id": "Bt1NaNwFdUiR"
   },
   "source": [
    "## Neuron model"
   ]
  },
  {
   "cell_type": "code",
   "execution_count": null,
   "metadata": {
    "id": "sfcg4paOdUiR"
   },
   "outputs": [],
   "source": [
    "class Neuron(object):\n",
    "    def __init__(self, input_shape=None, weights: torch.Tensor=None, activation_function=None, debug=False):\n",
    "\n",
    "        assert input_shape is not None or weights is not None\n",
    "        if weights is not None:\n",
    "            self.weights = weights\n",
    "        else:\n",
    "            self.weights = torch.rand([input_shape, 1])\n",
    "\n",
    "        self.activation_function = activation_function\n",
    "        self.debug = debug\n",
    "\n",
    "    def agregate_signal(self, input_tensor):\n",
    "        if self.debug:\n",
    "            print('Input_tensor:\\n', input_tensor)\n",
    "            print(f'Multiplying:{self.weights} * {input_tensor}')\n",
    "        m = torch.mul(self.weights, input_tensor)\n",
    "        if self.debug:\n",
    "            print(f'Result:\\n{m}')\n",
    "        s = m.sum()\n",
    "        if self.debug:\n",
    "            print(f'Sum:\\n{s}')\n",
    "        output = s.item()\n",
    "        if self.debug:\n",
    "            print('Output without activation:\\n', output)\n",
    "        return output\n",
    "\n",
    "    def activation(self, input_value):\n",
    "        if self.activation_function is not None:\n",
    "            output = self.activation_function(input_value)\n",
    "        else:\n",
    "            output = input_value\n",
    "        if self.debug:\n",
    "            print('Output after activation:\\n', output)\n",
    "        return output\n",
    "\n",
    "    def forward(self, input_tensor):\n",
    "        output = self.agregate_signal(input_tensor)\n",
    "        output = self.activation(output)\n",
    "        return output"
   ]
  },
  {
   "cell_type": "markdown",
   "metadata": {
    "id": "vhxYfmaRdUiS"
   },
   "source": [
    "# Linearly separable classes"
   ]
  },
  {
   "cell_type": "markdown",
   "metadata": {
    "id": "hPmZE-3NdUiS"
   },
   "source": [
    "## Dataset"
   ]
  },
  {
   "cell_type": "code",
   "execution_count": null,
   "metadata": {
    "id": "Kzsm-g6EdUiS",
    "outputId": "adeac3c4-9f7d-4f5e-aef8-f584614aea14",
    "scrolled": false
   },
   "outputs": [],
   "source": [
    "N = 10\n",
    "\n",
    "C0_x0 = np.random.random(N)\n",
    "C0_x1 = (C0_x0 + [np.random.randint(10)/10 for i in range(N)] + 0.1)\n",
    "C0 = np.array([(C0_x0[i], C0_x1[i]) for i in range(len(C0_x0))])\n",
    "\n",
    "C1_x0 = np.random.random(N)\n",
    "C1_x1 = (C1_x0 - [np.random.randint(10)/10 for i in range(N)] - 0.1)\n",
    "C1 = np.array([(C1_x0[i], C1_x1[i]) for i in range(len(C1_x0))])\n",
    "\n",
    "# plotting\n",
    "plt.scatter(C0_x0, C0_x1, s=10, c='red')\n",
    "plt.scatter(C1_x0, C1_x1, s=10, c='blue')\n",
    "plt.xlim([-0.1,1.1])\n",
    "plt.ylim([-1.1,2.1])\n",
    "plt.grid(True)"
   ]
  },
  {
   "cell_type": "markdown",
   "metadata": {
    "id": "J5aEFmYXdUiT"
   },
   "source": [
    "## Classification"
   ]
  },
  {
   "cell_type": "markdown",
   "metadata": {
    "id": "4IG4AaCCdUiT"
   },
   "source": [
    "$$\\begin{equation}\n",
    "        \\begin{matrix}\n",
    "        \\left\\{\n",
    "        \\begin{matrix}\n",
    "        w_0 x_0 + w_1 x_1 \\geq 0 & \\mbox{C0 (red)} \\\\\n",
    "        w_0 x_0 + w_1 x_1 \\lt 0 & \\mbox{C1 (blue)}\n",
    "        \\end{matrix} \\right.\n",
    "        \\end{matrix}\n",
    "    \\end{equation}$$"
   ]
  },
  {
   "cell_type": "markdown",
   "metadata": {
    "id": "rUbmnD_KdUiT"
   },
   "source": [
    "$$w_0 x_0 + w_1 x_1 = 0$$"
   ]
  },
  {
   "cell_type": "markdown",
   "metadata": {
    "id": "Mi2O-RSDdUiT"
   },
   "source": [
    "$$x_1 = - w_0 / w_1 * x_0$$"
   ]
  },
  {
   "cell_type": "markdown",
   "metadata": {
    "id": "syS5iodRdUiU"
   },
   "source": [
    "$$ k = - w_0 / w_1$$"
   ]
  },
  {
   "cell_type": "code",
   "execution_count": null,
   "metadata": {
    "id": "LAFSa29KdUiU",
    "outputId": "560a9c75-7d38-4320-e393-8636a9b16255",
    "scrolled": true
   },
   "outputs": [],
   "source": [
    "w0 = -1\n",
    "w1 = 1\n",
    "\n",
    "wf_x0 = [-1, 0 , 1, 2]\n",
    "wf_x1 = [x0*(-w0/w1) for x0 in wf_x0]\n",
    "\n",
    "# plotting\n",
    "plt.plot(wf_x0, wf_x1)\n",
    "plt.grid(True)\n",
    "plt.xlim([-0.1,1.1])\n",
    "plt.ylim([-1.1,2.1])\n",
    "plt.scatter(C0_x0, C0_x1, s=10, c='red')\n",
    "plt.scatter(C1_x0, C1_x1, s=10, c='blue')"
   ]
  },
  {
   "cell_type": "code",
   "execution_count": null,
   "metadata": {
    "id": "oaE-xag0dUiU",
    "outputId": "9ef846dc-188f-4660-ffe0-8fc97976e779",
    "scrolled": false
   },
   "outputs": [],
   "source": [
    "weights = torch.tensor([w0, w1])\n",
    "nn = Neuron(weights=weights, activation_function=threshold_function, debug=True)\n",
    "\n",
    "x = [0, 1]\n",
    "\n",
    "out = nn.forward(torch.tensor(x))\n",
    "\n",
    "# plotting\n",
    "if out >= 0.5:\n",
    "    print(\"Class C0 (Red)\")\n",
    "    plt.scatter(x[0], x[1], s=10, c='red')\n",
    "\n",
    "else:\n",
    "    print(\"Class C1 (Blue)\")\n",
    "    plt.scatter(x[0], x[1], s=10, c='blue')\n",
    "\n",
    "plt.plot(wf_x0, wf_x1)\n",
    "plt.grid(True)\n",
    "plt.xlim([-0.1,1.1])\n",
    "plt.ylim([-1.1,2.1])"
   ]
  },
  {
   "cell_type": "markdown",
   "metadata": {
    "id": "CbZLKzVrdUiV"
   },
   "source": [
    "# Bias"
   ]
  },
  {
   "cell_type": "markdown",
   "metadata": {
    "id": "zADbieg2dUiV"
   },
   "source": [
    "## Dataset"
   ]
  },
  {
   "cell_type": "code",
   "execution_count": null,
   "metadata": {
    "id": "f5uuzJSqdUiV",
    "outputId": "0e3ad4e9-4887-446e-86a9-17cb360bd917",
    "scrolled": true
   },
   "outputs": [],
   "source": [
    "N = 10\n",
    "b = 2\n",
    "\n",
    "C0_x0 = np.random.random(N)\n",
    "C0_x1 = (C0_x0 + [np.random.randint(10)/10 for i in range(N)] + 0.1 + b)\n",
    "C0 = np.array([(C0_x0[i], C0_x1[i]) for i in range(len(C0_x0))])\n",
    "\n",
    "C1_x0 = np.random.random(N)\n",
    "C1_x1 = (C1_x0 - [np.random.randint(10)/10 for i in range(N)] - 0.1 + b)\n",
    "C1 = np.array([(C1_x0[i], C1_x1[i]) for i in range(len(C1_x0))])\n",
    "\n",
    "# plotting\n",
    "plt.scatter(C0_x0, C0_x1, s=10, c='red')\n",
    "plt.scatter(C1_x0, C1_x1, s=10, c='blue')\n",
    "plt.xlim([-0.1,1.1])\n",
    "plt.ylim([-1.1+b,2.1+b])\n",
    "plt.grid(True)"
   ]
  },
  {
   "cell_type": "code",
   "execution_count": null,
   "metadata": {
    "id": "MlS0bZb9dUiV",
    "outputId": "ee0eeb65-479d-4104-d6c1-61fa8aec3c53"
   },
   "outputs": [],
   "source": [
    "w0 = -1\n",
    "w1 = 1\n",
    "\n",
    "wf_x0 = [-1, 0 , 1, 2]\n",
    "wf_x1 = [x0*(-w0/w1) for x0 in wf_x0]\n",
    "\n",
    "# plotting\n",
    "plt.plot(wf_x0, wf_x1)\n",
    "plt.grid(True)\n",
    "plt.xlim([-0.1,1.1])\n",
    "plt.ylim([-1.1,2.1+b])\n",
    "plt.scatter(C0_x0, C0_x1, s=10, c='red')\n",
    "plt.scatter(C1_x0, C1_x1, s=10, c='blue')"
   ]
  },
  {
   "cell_type": "markdown",
   "metadata": {
    "id": "RSTpczDndUiW"
   },
   "source": [
    "$$\\begin{equation}\n",
    "        \\begin{matrix}\n",
    "        \\left\\{\n",
    "        \\begin{matrix}\n",
    "        w_0 x_0 + w_1 x_1 + bias \\geq 0 & \\mbox{C0 (red)} \\\\\n",
    "        w_0 x_0 + w_1 x_1 + bias \\lt 0 & \\mbox{C1 (blue)}\n",
    "        \\end{matrix} \\right.\n",
    "        \\end{matrix}\n",
    "    \\end{equation}$$"
   ]
  },
  {
   "cell_type": "markdown",
   "metadata": {
    "id": "1IEA7EfTdUiW"
   },
   "source": [
    "$$w_0 x_0 + w_1 x_1 + bias = 0$$"
   ]
  },
  {
   "cell_type": "markdown",
   "metadata": {
    "id": "mdInsZ6xdUiW"
   },
   "source": [
    "$$x_1 = - w_0 / w_1 * x_0 - bias/w_1 $$"
   ]
  },
  {
   "cell_type": "markdown",
   "metadata": {
    "id": "U03fhHC_dUiW"
   },
   "source": [
    "$$ k = - w_0 / w_1, b = - bias / w_1$$"
   ]
  },
  {
   "cell_type": "markdown",
   "metadata": {
    "id": "uGmFSTcZdUiX"
   },
   "source": [
    "<img src=\"img/neuron_bias.png\" width=1000>"
   ]
  },
  {
   "cell_type": "code",
   "execution_count": null,
   "metadata": {
    "id": "4aRlZcDLdUiX"
   },
   "outputs": [],
   "source": [
    "class BiasNeuron(Neuron):\n",
    "    def __init__(self, input_shape=None, weights: torch.Tensor=None, bias=None, activation_function=None,\n",
    "                     debug=False):\n",
    "        super().__init__(input_shape, weights, activation_function, debug)\n",
    "\n",
    "        if bias is not None:\n",
    "            self.bias = bias\n",
    "\n",
    "\n",
    "    def forward(self, input_tensor):\n",
    "        output = self.agregate_signal(input_tensor)\n",
    "\n",
    "        output = output + self.bias\n",
    "\n",
    "        output = self.activation(output)\n",
    "        return output"
   ]
  },
  {
   "cell_type": "code",
   "execution_count": null,
   "metadata": {
    "id": "BmWwL2NsdUiX",
    "outputId": "e2d9640d-ceae-4654-a3e6-f327a0ff25a1"
   },
   "outputs": [],
   "source": [
    "w0 = -0.5\n",
    "w1 = 0.5\n",
    "b = 2.\n",
    "\n",
    "bias = -b * w1\n",
    "\n",
    "wf_x0 = [-1, 0 , 1, 2]\n",
    "wf_x1 = [x0*(-w0/w1) + b for x0 in wf_x0]\n",
    "\n",
    "# plotting\n",
    "plt.plot(wf_x0, wf_x1)\n",
    "plt.grid(True)\n",
    "plt.xlim([-0.1,1.1])\n",
    "plt.ylim([-1.1,2.1+b])\n",
    "plt.scatter(C0_x0, C0_x1, s=10, c='red')\n",
    "plt.scatter(C1_x0, C1_x1, s=10, c='blue')"
   ]
  },
  {
   "cell_type": "code",
   "execution_count": null,
   "metadata": {
    "id": "FPXFFqBPdUiX",
    "outputId": "c0903c1c-da7e-462b-b8a7-49d93ee55c74"
   },
   "outputs": [],
   "source": [
    "weights = torch.tensor([w0, w1])\n",
    "nn = BiasNeuron(weights=weights, bias=bias, debug=True)\n",
    "\n",
    "x = [0, 1]\n",
    "\n",
    "out = nn.forward(torch.tensor(x))\n",
    "\n",
    "# plotting\n",
    "if out >= 0.5:\n",
    "    print(\"Class C0 (Red)\")\n",
    "    plt.scatter(x[0], x[1], s=10, c='red')\n",
    "\n",
    "else:\n",
    "    print(\"Class C1(Blue)\")\n",
    "    plt.scatter(x[0], x[1], s=10, c='blue')\n",
    "\n",
    "plt.plot(wf_x0, wf_x1)\n",
    "plt.grid(True)\n",
    "plt.xlim([-0.1,1.1])\n",
    "plt.ylim([-1.1,2.1+b])"
   ]
  },
  {
   "cell_type": "markdown",
   "metadata": {
    "id": "7-5DMI9ydUiY"
   },
   "source": [
    "# XOR"
   ]
  },
  {
   "cell_type": "code",
   "execution_count": null,
   "metadata": {
    "id": "LmFsNNk7dUiY",
    "outputId": "e96e88e3-21ef-4f29-8d07-b1ceb63ad711"
   },
   "outputs": [],
   "source": [
    "C0 = np.array([(0,1), (1,0)])\n",
    "\n",
    "C1 = np.array([(0,0), (1,1)])\n",
    "\n",
    "\n",
    "# plotting\n",
    "plt.scatter([C0[i][0] for i in range(len(C0))],\n",
    "            [C0[i][1] for i in range(len(C0))], s=10, c='red')\n",
    "plt.scatter([C1[i][0] for i in range(len(C1))],\n",
    "            [C1[i][1] for i in range(len(C1))], s=10, c='blue')\n",
    "#plt.plot(f)\n",
    "plt.grid(True)\n",
    "plt.xlim([-0.1,1.1])\n",
    "plt.ylim([-0.1,1.1])"
   ]
  },
  {
   "cell_type": "code",
   "execution_count": null,
   "metadata": {
    "id": "4rrDWy67dUiY",
    "outputId": "2c19f8c6-2935-4928-a5ce-75d827292ea3"
   },
   "outputs": [],
   "source": [
    "w0 = 1\n",
    "w1 = 1\n",
    "b = 1.5\n",
    "\n",
    "bias = -b * w1\n",
    "\n",
    "C0 = np.array([(0,1), (1,0)])\n",
    "\n",
    "C1 = np.array([(0,0), (1,1)])\n",
    "\n",
    "# plotting\n",
    "fig, (ax1, ax2) = plt.subplots(1, 2)\n",
    "fig.set_figheight(4)\n",
    "fig.set_figwidth(13)\n",
    "\n",
    "wf_x0 = [-2, -1, 0 , 1, 2]\n",
    "wf_x1 = [x0*(-w0/w1) + 1.5 for x0 in wf_x0]\n",
    "ax1.plot(wf_x0, wf_x1)\n",
    "\n",
    "wf_x0 = [-2, -1, 0 , 1, 2]\n",
    "wf_x1 = [x0*(-w0/w1) + 0.5 for x0 in wf_x0]\n",
    "ax2.plot(wf_x0, wf_x1)\n",
    "\n",
    "for ax in [ax1, ax2]:\n",
    "    ax.scatter([C0[i][0] for i in range(len(C0))],\n",
    "                [C0[i][1] for i in range(len(C0))], s=10, c='red')\n",
    "    ax.scatter([C1[i][0] for i in range(len(C1))],\n",
    "                [C1[i][1] for i in range(len(C1))], s=10, c='blue')\n",
    "\n",
    "    ax.grid(True)\n",
    "    ax.set_xlim([-0.1,1.1])\n",
    "    ax.set_ylim([-0.1,1.1])"
   ]
  },
  {
   "cell_type": "code",
   "execution_count": null,
   "metadata": {
    "id": "o8SnsNFSdUiY"
   },
   "outputs": [],
   "source": [
    "class Perceptron:\n",
    "    def __init__(self):\n",
    "        self.first_layer = []\n",
    "        self.second_layer = []\n",
    "\n",
    "    def forward(self, input_tensor):\n",
    "        first_layer_output = []\n",
    "\n",
    "        for neuron in self.first_layer:\n",
    "            output = neuron.forward(input_tensor)\n",
    "            first_layer_output.append(output)\n",
    "\n",
    "        second_layer_input = torch.tensor(first_layer_output)\n",
    "\n",
    "        for neuron in self.second_layer:\n",
    "            output = neuron.forward(second_layer_input)\n",
    "\n",
    "        return output"
   ]
  },
  {
   "cell_type": "code",
   "execution_count": null,
   "metadata": {
    "id": "HKAnw3XmdUiZ",
    "outputId": "b00babc9-8499-4ccc-fe45-3d051f431000"
   },
   "outputs": [],
   "source": [
    "w0 = 1\n",
    "w1 = 1\n",
    "b = 1.5\n",
    "\n",
    "bias = -b * w1\n",
    "\n",
    "wf_x0 = [-2, -1, 0 , 1, 2]\n",
    "wf_x1 = [x0*(-w0/w1) - bias/w1 for x0 in wf_x0]\n",
    "plt.plot(wf_x0, wf_x1)\n",
    "\n",
    "weights = torch.tensor([w0, w1])\n",
    "neuron = BiasNeuron(weights=weights, bias=bias, activation_function=threshold_function)\n",
    "\n",
    "X = [(i/100, i/100) for i in range(100)]\n",
    "for x in X:\n",
    "    out = neuron.forward(torch.tensor(x))\n",
    "\n",
    "    #print(\"out\", out)\n",
    "\n",
    "    if out >= 0.5:\n",
    "        #print(\"Class C0\")\n",
    "        plt.scatter(x[0], x[1], s=10, c='red')\n",
    "\n",
    "    else:\n",
    "        #print(\"Class C1\")\n",
    "        plt.scatter(x[0], x[1], s=10, c='blue')\n",
    "\n",
    "plt.grid(True)\n",
    "plt.xlim([-0.1,1.1])\n",
    "plt.ylim([-0.1,1.1])"
   ]
  },
  {
   "cell_type": "code",
   "execution_count": null,
   "metadata": {
    "id": "7rJGwfTtdUiZ"
   },
   "outputs": [],
   "source": [
    "nn = Perceptron()\n",
    "\n",
    "w0 = 1\n",
    "w1 = 1\n",
    "b = 1.5\n",
    "\n",
    "bias = -b * w1\n",
    "\n",
    "weights = torch.tensor([w0, w1])\n",
    "neuron = BiasNeuron(weights=weights, bias=bias, activation_function=threshold_function)\n",
    "\n",
    "nn.first_layer.append(neuron)\n",
    "\n",
    "w0 = 1\n",
    "w1 = 1\n",
    "b = 0.5\n",
    "\n",
    "bias = -b * w1\n",
    "\n",
    "weights = torch.tensor([w0, w1])\n",
    "neuron = BiasNeuron(weights=weights, bias=bias, activation_function=threshold_function)\n",
    "\n",
    "nn.first_layer.append(neuron)\n",
    "\n",
    "w0 = -1\n",
    "w1 = 1\n",
    "b = 0.5\n",
    "\n",
    "bias = -b * w1\n",
    "\n",
    "weights = torch.tensor([w0, w1])\n",
    "neuron = BiasNeuron(weights=weights, bias=bias, activation_function=threshold_function)\n",
    "\n",
    "nn.second_layer.append(neuron)"
   ]
  },
  {
   "cell_type": "code",
   "execution_count": null,
   "metadata": {
    "id": "3dqgi7IOdUiZ",
    "outputId": "8ff753e6-0427-4a9b-cd4f-dba6ce9e264f"
   },
   "outputs": [],
   "source": [
    "X = [(i/10, i/10) for i in range(11)]\n",
    "X.extend([(i/10, (10-i)/10) for i in range(11)])\n",
    "X.extend([(i/10, (10-i)/10 + 0.6) for i in range(11)])\n",
    "X.extend([(i/10, (10-i)/10 - 0.6) for i in range(11)])\n",
    "#X.extend([(i/10, i/10 + 0.2) for i in range(11)])\n",
    "#X.extend([(i/10, i/10 - 0.2) for i in range(11)])\n",
    "X.extend([(i/10, i/10 + 0.5) for i in range(11)])\n",
    "X.extend([(i/10, i/10 - 0.5) for i in range(11)])\n",
    "#print(X)\n",
    "for x in X:\n",
    "    out = nn.forward(torch.tensor(x))\n",
    "\n",
    "    #print(\"out\", out)\n",
    "\n",
    "    if out >= 0.5:\n",
    "        #print(\"Class C0\")\n",
    "        plt.scatter(x[0], x[1], s=10, c='red')\n",
    "\n",
    "    else:\n",
    "        #print(\"Class C1\")\n",
    "        plt.scatter(x[0], x[1], s=10, c='blue')\n",
    "\n",
    "wf_x0 = [-2, -1, 0 , 1, 2]\n",
    "wf_x1 = [-x0 + 0.5 for x0 in wf_x0]\n",
    "plt.plot(wf_x0, wf_x1, c='blue')\n",
    "\n",
    "wf_x0 = [-2, -1, 0 , 1, 2]\n",
    "wf_x1 = [-x0 + 1.5 for x0 in wf_x0]\n",
    "plt.plot(wf_x0, wf_x1, c='blue')\n",
    "\n",
    "plt.grid(True)\n",
    "plt.xlim([-0.1,1.1])\n",
    "plt.ylim([-0.1,1.1])"
   ]
  },
  {
   "cell_type": "code",
   "execution_count": null,
   "metadata": {
    "id": "eNtbgWdHdUiZ"
   },
   "outputs": [],
   "source": []
  }
 ],
 "metadata": {
  "accelerator": "GPU",
  "colab": {
   "gpuType": "T4",
   "provenance": []
  },
  "kernelspec": {
   "display_name": "Python 3 (ipykernel)",
   "language": "python",
   "name": "python3"
  },
  "language_info": {
   "codemirror_mode": {
    "name": "ipython",
    "version": 3
   },
   "file_extension": ".py",
   "mimetype": "text/x-python",
   "name": "python",
   "nbconvert_exporter": "python",
   "pygments_lexer": "ipython3",
   "version": "3.8.10"
  }
 },
 "nbformat": 4,
 "nbformat_minor": 1
}
